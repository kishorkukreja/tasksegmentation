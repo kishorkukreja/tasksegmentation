{
 "cells": [
  {
   "cell_type": "code",
   "execution_count": null,
   "metadata": {
    "collapsed": false
   },
   "outputs": [],
   "source": [
    "## Text Classifier for Category detection"
   ]
  },
  {
   "cell_type": "code",
   "execution_count": 2,
   "metadata": {
    "collapsed": false
   },
   "outputs": [
    {
     "name": "stdout",
     "output_type": "stream",
     "text": [
      "C:\\Users\\G560667\\Category Classification\n",
      "C:\\Users\\G560667\\Category Classification\n"
     ]
    }
   ],
   "source": [
    "import pandas as pd\n",
    "from sklearn.utils import shuffle\n",
    "import os\n",
    "cwd = os.getcwd()\n",
    "print(cwd)\n",
    "os.chdir('C:\\\\Users\\\\G560667\\\\Category Classification')\n",
    "print(cwd)"
   ]
  },
  {
   "cell_type": "code",
   "execution_count": 3,
   "metadata": {
    "collapsed": false
   },
   "outputs": [],
   "source": [
    "df = pd.read_excel('Data Set-Train test.xlsx')"
   ]
  },
  {
   "cell_type": "code",
   "execution_count": 4,
   "metadata": {
    "collapsed": false
   },
   "outputs": [
    {
     "data": {
      "text/html": [
       "<div>\n",
       "<table border=\"1\" class=\"dataframe\">\n",
       "  <thead>\n",
       "    <tr style=\"text-align: right;\">\n",
       "      <th></th>\n",
       "      <th>CATEGORY</th>\n",
       "      <th>QUICK</th>\n",
       "    </tr>\n",
       "  </thead>\n",
       "  <tbody>\n",
       "    <tr>\n",
       "      <th>105</th>\n",
       "      <td>Home</td>\n",
       "      <td>Exterminators prices</td>\n",
       "    </tr>\n",
       "    <tr>\n",
       "      <th>172</th>\n",
       "      <td>Home</td>\n",
       "      <td>Refelt pool table cost</td>\n",
       "    </tr>\n",
       "    <tr>\n",
       "      <th>19</th>\n",
       "      <td>Wellness</td>\n",
       "      <td>Yoga prices</td>\n",
       "    </tr>\n",
       "    <tr>\n",
       "      <th>142</th>\n",
       "      <td>Home</td>\n",
       "      <td>Lawn mower repair cost</td>\n",
       "    </tr>\n",
       "    <tr>\n",
       "      <th>285</th>\n",
       "      <td>Events</td>\n",
       "      <td>Wedding planning prices</td>\n",
       "    </tr>\n",
       "  </tbody>\n",
       "</table>\n",
       "</div>"
      ],
      "text/plain": [
       "     CATEGORY                    QUICK\n",
       "105      Home     Exterminators prices\n",
       "172      Home   Refelt pool table cost\n",
       "19   Wellness              Yoga prices\n",
       "142      Home   Lawn mower repair cost\n",
       "285    Events  Wedding planning prices"
      ]
     },
     "execution_count": 4,
     "metadata": {},
     "output_type": "execute_result"
    }
   ],
   "source": [
    "df.CATEGORY\n",
    "dt_train_test=df[['CATEGORY','QUICK']]\n",
    "dt_train_test=shuffle(dt_train_test)\n",
    "dt_train_test.head()"
   ]
  },
  {
   "cell_type": "code",
   "execution_count": 5,
   "metadata": {
    "collapsed": false
   },
   "outputs": [
    {
     "name": "stdout",
     "output_type": "stream",
     "text": [
      "(255,) (255,)\n",
      "(64,) (64,)\n"
     ]
    },
    {
     "data": {
      "text/plain": [
       "165        Home\n",
       "270      Events\n",
       "89         Home\n",
       "94         Home\n",
       "14     Wellness\n",
       "Name: CATEGORY, dtype: object"
      ]
     },
     "execution_count": 5,
     "metadata": {},
     "output_type": "execute_result"
    }
   ],
   "source": [
    "import pandas as pd\n",
    "from sklearn.cross_validation  import train_test_split\n",
    "from matplotlib import pyplot as plt\n",
    "\n",
    "training_data=dt_train_test['QUICK']\n",
    "test_data=dt_train_test['CATEGORY']\n",
    "\n",
    "X_train, X_test, y_train, y_test = train_test_split(training_data, test_data, test_size=0.2)\n",
    "print (X_train.shape, y_train.shape)\n",
    "print (X_test.shape, y_test.shape)\n",
    "\n",
    "X_train.head()\n",
    "y_train.head()"
   ]
  },
  {
   "cell_type": "code",
   "execution_count": 6,
   "metadata": {
    "collapsed": true
   },
   "outputs": [],
   "source": [
    "##Extract features\n",
    "import numpy as np\n",
    "from sklearn.feature_extraction.text import CountVectorizer\n",
    "\n",
    "count_vectorizer = CountVectorizer()\n",
    "counts = count_vectorizer.fit_transform(X_train.values)"
   ]
  },
  {
   "cell_type": "code",
   "execution_count": null,
   "metadata": {
    "collapsed": false
   },
   "outputs": [],
   "source": [
    "examples = ['Math tutor prices']\n",
    "example_counts = count_vectorizer.transform(examples)\n",
    "predictions = counts.predict(example_counts)\n",
    "predictions"
   ]
  },
  {
   "cell_type": "code",
   "execution_count": 8,
   "metadata": {
    "collapsed": false
   },
   "outputs": [
    {
     "name": "stdout",
     "output_type": "stream",
     "text": [
      "[[ 0  2  5  0  0  0]\n",
      " [ 0 11  2  0  0  0]\n",
      " [ 0  0 35  0  0  0]\n",
      " [ 0  1  3  1  0  0]\n",
      " [ 0  2  0  0  0  0]\n",
      " [ 0  0  2  0  0  0]]\n",
      "F1 score:  0.324268759929\n",
      "\n",
      " clasification report:\n",
      "              precision    recall  f1-score   support\n",
      "\n",
      "   Business       0.00      0.00      0.00         7\n",
      "     Events       0.69      0.85      0.76        13\n",
      "       Home       0.74      1.00      0.85        35\n",
      "    Lessons       1.00      0.20      0.33         5\n",
      "       Pets       0.00      0.00      0.00         2\n",
      "   Wellness       0.00      0.00      0.00         2\n",
      "\n",
      "avg / total       0.63      0.73      0.65        64\n",
      "\n"
     ]
    },
    {
     "name": "stderr",
     "output_type": "stream",
     "text": [
      "C:\\Users\\G560667\\AppData\\Local\\Continuum\\Anaconda3\\lib\\site-packages\\sklearn\\metrics\\classification.py:1074: UndefinedMetricWarning: F-score is ill-defined and being set to 0.0 in labels with no predicted samples.\n",
      "  'precision', 'predicted', average, warn_for)\n",
      "C:\\Users\\G560667\\AppData\\Local\\Continuum\\Anaconda3\\lib\\site-packages\\sklearn\\metrics\\classification.py:1074: UndefinedMetricWarning: Precision and F-score are ill-defined and being set to 0.0 in labels with no predicted samples.\n",
      "  'precision', 'predicted', average, warn_for)\n"
     ]
    }
   ],
   "source": [
    "##Pipelining-Test Data Split\n",
    "from sklearn.pipeline import Pipeline\n",
    "from sklearn.cross_validation import cross_val_score, cross_val_predict\n",
    "from sklearn.metrics import confusion_matrix\n",
    "import matplotlib.pyplot as plt\n",
    "from sklearn.metrics import f1_score,accuracy_score,classification_report\n",
    "from nltk.classify.scikitlearn import SklearnClassifier\n",
    "from sklearn.naive_bayes import BernoulliNB\n",
    "from sklearn.feature_extraction.text import CountVectorizer\n",
    "from sklearn.naive_bayes import MultinomialNB\n",
    "\n",
    "pipeline = Pipeline([\n",
    "    ('vectorizer',  CountVectorizer()),\n",
    "    ('classifier',  MultinomialNB()) ])\n",
    "\n",
    "pipeline.fit(X_train.values, y_train.values)\n",
    "pipeline.predict(examples)\n",
    "predictions=pipeline.predict(X_test)\n",
    "cm = confusion_matrix (y_test, predictions)\n",
    "print(cm)\n",
    "#print ('Accuracy: ',accuracy_score(y_test, predictions))\n",
    "print ('F1 score: ',f1_score(y_test, predictions,average='macro'))\n",
    "print ('\\n clasification report:\\n', classification_report(y_test,predictions))\n",
    "#score = f1_score(y_test, predictions,pos_label=average)\n",
    "#scores.append(score)\n",
    "#plt.imshow(cm, cmap='binary')\n",
    "#plt.show()\n",
    "\n",
    "#y_test.head()"
   ]
  },
  {
   "cell_type": "code",
   "execution_count": 9,
   "metadata": {
    "collapsed": false
   },
   "outputs": [
    {
     "name": "stdout",
     "output_type": "stream",
     "text": [
      "[[ 1  2  4  0  0  0]\n",
      " [ 0 11  2  0  0  0]\n",
      " [ 0  0 35  0  0  0]\n",
      " [ 0  0  2  3  0  0]\n",
      " [ 0  1  0  0  1  0]\n",
      " [ 0  0  1  0  0  1]]\n",
      "F1 score:  0.672370682919\n",
      "\n",
      " clasification report:\n",
      "              precision    recall  f1-score   support\n",
      "\n",
      "   Business       1.00      0.14      0.25         7\n",
      "     Events       0.79      0.85      0.81        13\n",
      "       Home       0.80      1.00      0.89        35\n",
      "    Lessons       1.00      0.60      0.75         5\n",
      "       Pets       1.00      0.50      0.67         2\n",
      "   Wellness       1.00      0.50      0.67         2\n",
      "\n",
      "avg / total       0.84      0.81      0.78        64\n",
      "\n"
     ]
    }
   ],
   "source": [
    "##N gram approach-Test Data Split\n",
    "\n",
    "from sklearn.pipeline import Pipeline\n",
    "from sklearn.cross_validation import cross_val_score, cross_val_predict\n",
    "from sklearn.metrics import confusion_matrix as cm\n",
    "import matplotlib.pyplot as plt\n",
    "from sklearn.metrics import f1_score,accuracy_score,classification_report\n",
    "\n",
    "pipeline_ngram = Pipeline([\n",
    "    ('count_vectorizer', CountVectorizer(ngram_range=(1, 2))),\n",
    "    ('classifier',       MultinomialNB())\n",
    "])\n",
    "pipeline_ngram.fit(X_train.values, y_train.values)\n",
    "pipeline_ngram.predict(examples)\n",
    "predictions=pipeline_ngram.predict(X_test)\n",
    "\n",
    "cm = confusion_matrix (y_test, predictions)\n",
    "print(cm)\n",
    "#print ('Accuracy: ',accuracy_score(y_test, predictions))\n",
    "print ('F1 score: ',f1_score(y_test, predictions,average='macro'))\n",
    "print ('\\n clasification report:\\n', classification_report(y_test,predictions))"
   ]
  },
  {
   "cell_type": "code",
   "execution_count": 10,
   "metadata": {
    "collapsed": false
   },
   "outputs": [
    {
     "name": "stdout",
     "output_type": "stream",
     "text": [
      "[[ 0  2  5  0  0  0]\n",
      " [ 0 11  2  0  0  0]\n",
      " [ 0  0 35  0  0  0]\n",
      " [ 0  0  4  1  0  0]\n",
      " [ 0  0  2  0  0  0]\n",
      " [ 0  0  2  0  0  0]]\n",
      "F1 score:  0.333836098542\n",
      "\n",
      " clasification report:\n",
      "              precision    recall  f1-score   support\n",
      "\n",
      "   Business       0.00      0.00      0.00         7\n",
      "     Events       0.85      0.85      0.85        13\n",
      "       Home       0.70      1.00      0.82        35\n",
      "    Lessons       1.00      0.20      0.33         5\n",
      "       Pets       0.00      0.00      0.00         2\n",
      "   Wellness       0.00      0.00      0.00         2\n",
      "\n",
      "avg / total       0.63      0.73      0.65        64\n",
      "\n"
     ]
    },
    {
     "name": "stderr",
     "output_type": "stream",
     "text": [
      "C:\\Users\\G560667\\AppData\\Local\\Continuum\\Anaconda3\\lib\\site-packages\\sklearn\\metrics\\classification.py:1074: UndefinedMetricWarning: F-score is ill-defined and being set to 0.0 in labels with no predicted samples.\n",
      "  'precision', 'predicted', average, warn_for)\n",
      "C:\\Users\\G560667\\AppData\\Local\\Continuum\\Anaconda3\\lib\\site-packages\\sklearn\\metrics\\classification.py:1074: UndefinedMetricWarning: Precision and F-score are ill-defined and being set to 0.0 in labels with no predicted samples.\n",
      "  'precision', 'predicted', average, warn_for)\n"
     ]
    }
   ],
   "source": [
    "##Ngram and TFIDF--Test Data Split\n",
    "\n",
    "from sklearn.feature_extraction.text import TfidfTransformer\n",
    "from sklearn.pipeline import Pipeline\n",
    "from sklearn.cross_validation import cross_val_score, cross_val_predict\n",
    "from sklearn.metrics import confusion_matrix as cm\n",
    "import matplotlib.pyplot as plt\n",
    "from sklearn.metrics import f1_score,accuracy_score,classification_report\n",
    "\n",
    "pipeline_tfidf = Pipeline([\n",
    "    ('count_vectorizer',   CountVectorizer(stop_words='english')),\n",
    "    ('tfidf_transformer',  TfidfTransformer()),\n",
    "    ('classifier',         MultinomialNB())\n",
    "])\n",
    "\n",
    "pipeline_tfidf.fit(X_train.values, y_train.values)\n",
    "pipeline_tfidf.predict(examples)\n",
    "predictions=pipeline_tfidf.predict(X_test)\n",
    "\n",
    "cm = confusion_matrix (y_test, predictions)\n",
    "print(cm)\n",
    "#print ('Accuracy: ',accuracy_score(y_test, predictions))\n",
    "print ('F1 score: ',f1_score(y_test, predictions,average='macro'))\n",
    "print ('\\n clasification report:\\n', classification_report(y_test,predictions))"
   ]
  },
  {
   "cell_type": "code",
   "execution_count": 11,
   "metadata": {
    "collapsed": false
   },
   "outputs": [
    {
     "name": "stdout",
     "output_type": "stream",
     "text": [
      "[[ 3  2  2  0  0  0]\n",
      " [ 0 11  2  0  0  0]\n",
      " [ 0  2 32  0  0  1]\n",
      " [ 0  0  1  4  0  0]\n",
      " [ 0  0  0  0  2  0]\n",
      " [ 0  0  0  0  0  2]]\n",
      "F1 score:  0.827248677249\n",
      "\n",
      " clasification report:\n",
      "              precision    recall  f1-score   support\n",
      "\n",
      "   Business       1.00      0.43      0.60         7\n",
      "     Events       0.73      0.85      0.79        13\n",
      "       Home       0.86      0.91      0.89        35\n",
      "    Lessons       1.00      0.80      0.89         5\n",
      "       Pets       1.00      1.00      1.00         2\n",
      "   Wellness       0.67      1.00      0.80         2\n",
      "\n",
      "avg / total       0.86      0.84      0.84        64\n",
      "\n"
     ]
    },
    {
     "data": {
      "text/plain": [
       "{'classifier__alpha': 0.001,\n",
       " 'count_vectorizer__ngram_range': (1, 2),\n",
       " 'tfidf_transformer__use_idf': False}"
      ]
     },
     "execution_count": 11,
     "metadata": {},
     "output_type": "execute_result"
    }
   ],
   "source": [
    "from  sklearn.grid_search import GridSearchCV\n",
    "parameters = {'count_vectorizer__ngram_range': [(1, 1), (1, 2)],\n",
    "               'tfidf_transformer__use_idf': (True, False),\n",
    "              'classifier__alpha': (1e-2, 1e-3),\n",
    " }\n",
    "\n",
    "gs_clf = GridSearchCV(pipeline_tfidf, parameters, n_jobs=-1)\n",
    "gs_clf = gs_clf.fit(X_train.values, y_train.values)\n",
    "gs_clf.predict(examples)\n",
    "predictions=gs_clf.predict(X_test)\n",
    "\n",
    "cm = confusion_matrix (y_test, predictions)\n",
    "print(cm)\n",
    "#print ('Accuracy: ',accuracy_score(y_test, predictions))\n",
    "print ('F1 score: ',f1_score(y_test, predictions,average='macro'))\n",
    "print ('\\n clasification report:\\n', classification_report(y_test,predictions))\n",
    "gs_clf.best_score_\n",
    "gs_clf.best_params_"
   ]
  },
  {
   "cell_type": "code",
   "execution_count": 12,
   "metadata": {
    "collapsed": false
   },
   "outputs": [
    {
     "data": {
      "text/plain": [
       "array(['Home', 'Home', 'Home', 'Home', 'Home', 'Home', 'Home', 'Home',\n",
       "       'Events', 'Home', 'Home', 'Home', 'Home', 'Home', 'Events', 'Home',\n",
       "       'Home', 'Events', 'Events', 'Home', 'Home', 'Home', 'Home', 'Home',\n",
       "       'Home', 'Home', 'Home', 'Events', 'Home', 'Home', 'Home', 'Home',\n",
       "       'Home', 'Events', 'Home', 'Home', 'Home', 'Home', 'Home', 'Home',\n",
       "       'Home', 'Home', 'Home', 'Events', 'Events', 'Home', 'Home', 'Home',\n",
       "       'Home', 'Home', 'Events', 'Home', 'Home', 'Home', 'Home', 'Events',\n",
       "       'Home', 'Home', 'Home', 'Events', 'Home', 'Home', 'Home', 'Home'], \n",
       "      dtype='<U8')"
      ]
     },
     "execution_count": 12,
     "metadata": {},
     "output_type": "execute_result"
    }
   ],
   "source": [
    "## Bernouili NB--Test data Split\n",
    "from sklearn.naive_bayes import BernoulliNB\n",
    "\n",
    "pipeline_NB = Pipeline([\n",
    "    ('count_vectorizer',   CountVectorizer(stop_words='english')),\n",
    "    ('classifier',         BernoulliNB()) ])\n",
    "\n",
    "pipeline_NB.fit(X_train.values, y_train.values)\n",
    "pipeline_NB.predict(examples)\n",
    "pipeline_NB.predict(X_test)"
   ]
  },
  {
   "cell_type": "code",
   "execution_count": 13,
   "metadata": {
    "collapsed": false
   },
   "outputs": [
    {
     "name": "stdout",
     "output_type": "stream",
     "text": [
      "[[ 0  1  6  0  0  0]\n",
      " [ 0  7  6  0  0  0]\n",
      " [ 0  0 35  0  0  0]\n",
      " [ 0  1  4  0  0  0]\n",
      " [ 0  2  0  0  0  0]\n",
      " [ 0  0  2  0  0  0]]\n",
      "F1 score:  0.229797979798\n",
      "\n",
      " clasification report:\n",
      "              precision    recall  f1-score   support\n",
      "\n",
      "   Business       0.00      0.00      0.00         7\n",
      "     Events       0.64      0.54      0.58        13\n",
      "       Home       0.66      1.00      0.80        35\n",
      "    Lessons       0.00      0.00      0.00         5\n",
      "       Pets       0.00      0.00      0.00         2\n",
      "   Wellness       0.00      0.00      0.00         2\n",
      "\n",
      "avg / total       0.49      0.66      0.55        64\n",
      "\n"
     ]
    },
    {
     "name": "stderr",
     "output_type": "stream",
     "text": [
      "C:\\Users\\G560667\\AppData\\Local\\Continuum\\Anaconda3\\lib\\site-packages\\sklearn\\metrics\\classification.py:1074: UndefinedMetricWarning: F-score is ill-defined and being set to 0.0 in labels with no predicted samples.\n",
      "  'precision', 'predicted', average, warn_for)\n",
      "C:\\Users\\G560667\\AppData\\Local\\Continuum\\Anaconda3\\lib\\site-packages\\sklearn\\metrics\\classification.py:1074: UndefinedMetricWarning: Precision and F-score are ill-defined and being set to 0.0 in labels with no predicted samples.\n",
      "  'precision', 'predicted', average, warn_for)\n"
     ]
    },
    {
     "data": {
      "text/plain": [
       "{'classifier__binarize': 0.01, 'count_vectorizer__ngram_range': (1, 1)}"
      ]
     },
     "execution_count": 13,
     "metadata": {},
     "output_type": "execute_result"
    }
   ],
   "source": [
    "from  sklearn.grid_search import GridSearchCV\n",
    "parameters = {'count_vectorizer__ngram_range': [(1, 1), (1, 2)],\n",
    "               'classifier__binarize': (1e-2, 1e-3,0.1,0.0),\n",
    " }\n",
    "\n",
    "gs_clf = GridSearchCV(pipeline_NB, parameters, n_jobs=-1)\n",
    "gs_clf = gs_clf.fit(X_train.values, y_train.values)\n",
    "gs_clf.predict(examples)\n",
    "predictions=gs_clf.predict(X_test)\n",
    "\n",
    "cm = confusion_matrix (y_test, predictions)\n",
    "print(cm)\n",
    "#print ('Accuracy: ',accuracy_score(y_test, predictions))\n",
    "print ('F1 score: ',f1_score(y_test, predictions,average='macro'))\n",
    "print ('\\n clasification report:\\n', classification_report(y_test,predictions))\n",
    "gs_clf.best_score_\n",
    "gs_clf.best_params_"
   ]
  },
  {
   "cell_type": "code",
   "execution_count": 20,
   "metadata": {
    "collapsed": false
   },
   "outputs": [
    {
     "name": "stdout",
     "output_type": "stream",
     "text": [
      "[[ 4  2  1  0  0  0]\n",
      " [ 1 10  2  0  0  0]\n",
      " [ 2  1 30  1  0  1]\n",
      " [ 0  0  0  5  0  0]\n",
      " [ 0  0  0  0  2  0]\n",
      " [ 0  0  0  0  0  2]]\n",
      "Accuracy:  0.828125\n",
      "F1 score:  0.822017198488\n",
      "\n",
      " clasification report:\n",
      "              precision    recall  f1-score   support\n",
      "\n",
      "   Business       0.57      0.57      0.57         7\n",
      "     Events       0.77      0.77      0.77        13\n",
      "       Home       0.91      0.86      0.88        35\n",
      "    Lessons       0.83      1.00      0.91         5\n",
      "       Pets       1.00      1.00      1.00         2\n",
      "   Wellness       0.67      1.00      0.80         2\n",
      "\n",
      "avg / total       0.83      0.83      0.83        64\n",
      "\n"
     ]
    },
    {
     "data": {
      "text/plain": [
       "{'mnb__alpha': 0.01, 'tfidf__use_idf': True}"
      ]
     },
     "execution_count": 20,
     "metadata": {},
     "output_type": "execute_result"
    }
   ],
   "source": [
    "## Stemming and Multinomial Naive BAYES\n",
    "\n",
    "from  sklearn.grid_search import GridSearchCV\n",
    "import nltk\n",
    "from nltk.stem.snowball import SnowballStemmer\n",
    "from nltk.tokenize import word_tokenize\n",
    "from nltk.stem import PorterStemmer\n",
    "\n",
    "stemmer = SnowballStemmer(\"english\", ignore_stopwords=True)\n",
    "\n",
    "class StemmedCountVectorizer(CountVectorizer):\n",
    "    def __init__(self, stemmer):\n",
    "        super(StemmedCountVectorizer, self).__init__()\n",
    "        self.stemmer = stemmer\n",
    "        \n",
    "    def build_analyzer(self):\n",
    "        analyzer = super(StemmedCountVectorizer, self).build_analyzer()\n",
    "        return lambda doc: ([stemmer.stem(w) for w in analyzer(doc)])\n",
    "\n",
    "stemmed_count_vect = StemmedCountVectorizer(stemmer)\n",
    "\n",
    "text_mnb_stemmed = Pipeline([('vect', stemmed_count_vect),\n",
    "                      ('tfidf', TfidfTransformer()),\n",
    "                      ('mnb', MultinomialNB(fit_prior=False)),\n",
    " ])\n",
    "\n",
    "parameters = {'tfidf__use_idf': (True, False),\n",
    "              'mnb__alpha': (1e-2, 1e-3),\n",
    " }\n",
    "\n",
    "gs_clf = GridSearchCV(text_mnb_stemmed, parameters,)\n",
    "gs_clf = gs_clf.fit(X_train.values, y_train.values)\n",
    "gs_clf.predict(examples)\n",
    "predictions=gs_clf.predict(X_test)\n",
    "\n",
    "cm = confusion_matrix (y_test, predictions)\n",
    "print(cm)\n",
    "print ('Accuracy: ',accuracy_score(y_test, predictions))\n",
    "print ('F1 score: ',f1_score(y_test, predictions,average='macro'))\n",
    "print ('\\n clasification report:\\n', classification_report(y_test,predictions))\n",
    "gs_clf.best_score_\n",
    "gs_clf.best_params_"
   ]
  },
  {
   "cell_type": "code",
   "execution_count": 40,
   "metadata": {
    "collapsed": false
   },
   "outputs": [
    {
     "name": "stdout",
     "output_type": "stream",
     "text": [
      "[[  2.15077121e-03   9.35213540e-04   4.63019359e-04   1.93902175e-03\n",
      "    5.01948349e-03   9.89492491e-01]]\n",
      "['Wellness']\n"
     ]
    }
   ],
   "source": [
    "examples = ['i want a massage']\n",
    "predictions = gs_clf.predict_proba(examples)\n",
    "predicted_Class = gs_clf.predict(examples)\n",
    "print(predictions)\n",
    "print(predicted_Class)"
   ]
  },
  {
   "cell_type": "code",
   "execution_count": 36,
   "metadata": {
    "collapsed": true
   },
   "outputs": [],
   "source": [
    "probabllties_definition_index=['Business','Events','Home','Lessons','Pets','Wellness']"
   ]
  },
  {
   "cell_type": "code",
   "execution_count": null,
   "metadata": {
    "collapsed": true
   },
   "outputs": [],
   "source": []
  }
 ],
 "metadata": {
  "anaconda-cloud": {},
  "kernelspec": {
   "display_name": "Python [default]",
   "language": "python",
   "name": "python3"
  },
  "language_info": {
   "codemirror_mode": {
    "name": "ipython",
    "version": 3
   },
   "file_extension": ".py",
   "mimetype": "text/x-python",
   "name": "python",
   "nbconvert_exporter": "python",
   "pygments_lexer": "ipython3",
   "version": "3.5.2"
  }
 },
 "nbformat": 4,
 "nbformat_minor": 1
}
